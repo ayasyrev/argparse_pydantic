{
 "cells": [
  {
   "cell_type": "markdown",
   "metadata": {},
   "source": [
    "# Argparse Pydantic"
   ]
  },
  {
   "cell_type": "markdown",
   "metadata": {},
   "source": [
    "Config for argparse with pydantic model."
   ]
  },
  {
   "cell_type": "markdown",
   "metadata": {},
   "source": [
    "[![PyPI - Python Version](https://img.shields.io/pypi/pyversions/argparse_pydantic)](https://pypi.org/project/argparse_pydantic/)\n",
    "![PyPI](https://img.shields.io/pypi/v/argparse_pydantic?color=blue)  \n",
    "[![Tests](https://github.com/ayasyrev/argparse_pydantic/workflows/Tests/badge.svg)](https://github.com/ayasyrev/argparse_pydantic/actions?workflow=Tests)  [![Codecov](https://codecov.io/gh/ayasyrev/argparse_pydantic/branch/main/graph/badge.svg)](https://codecov.io/gh/ayasyrev/argparse_pydantic)  "
   ]
  },
  {
   "cell_type": "markdown",
   "metadata": {},
   "source": [
    "Simple wrapper for python argparse.  \n",
    "Use pydantic model for you app config.  \n",
    "It gives you typed config instead of default Namespace from argparse."
   ]
  },
  {
   "cell_type": "markdown",
   "metadata": {},
   "source": [
    "Tested on python 3.7 - 3.11"
   ]
  },
  {
   "cell_type": "markdown",
   "metadata": {},
   "source": [
    "WIP"
   ]
  },
  {
   "cell_type": "markdown",
   "metadata": {},
   "source": [
    "## Install"
   ]
  },
  {
   "cell_type": "markdown",
   "metadata": {},
   "source": [
    "Install from pypi:  \n",
    "\n",
    "`pip install argparse_pydantic`\n",
    "\n",
    "Or install from github repo:\n",
    "\n",
    "`pip install git+https://github.com/ayasyrev/argparse_pydantic.git`"
   ]
  },
  {
   "cell_type": "markdown",
   "metadata": {},
   "source": [
    "## Base use."
   ]
  },
  {
   "cell_type": "markdown",
   "metadata": {},
   "source": [
    "We use python argparse to parse arguments from command line.  \n",
    "So, just create parser as usual:"
   ]
  },
  {
   "cell_type": "code",
   "execution_count": null,
   "metadata": {},
   "outputs": [],
   "source": [
    "import argparse\n",
    "\n",
    "parser = argparse.ArgumentParser(prog=\"MyApp\")"
   ]
  },
  {
   "cell_type": "markdown",
   "metadata": {},
   "source": [
    "Than create config for you app with Pydantic."
   ]
  },
  {
   "cell_type": "code",
   "execution_count": null,
   "metadata": {},
   "outputs": [],
   "source": [
    "from pydantic import  BaseModel\n",
    "\n",
    "\n",
    "class AppCfg(BaseModel):\n",
    "    echo: str"
   ]
  },
  {
   "cell_type": "markdown",
   "metadata": {},
   "source": [
    "Now add argument to parser from you config."
   ]
  },
  {
   "cell_type": "code",
   "execution_count": null,
   "metadata": {},
   "outputs": [],
   "source": [
    "from argparse_pydantic import add_args_from_model\n",
    "\n",
    "parser = add_args_from_model(parser, AppCfg)"
   ]
  },
  {
   "cell_type": "markdown",
   "metadata": {},
   "source": [
    "So we got parser with arguments from config."
   ]
  },
  {
   "cell_type": "markdown",
   "metadata": {},
   "source": [
    "It exactly like parser made classic way:  \n",
    "`parser.add_argument(\"echo\")`"
   ]
  },
  {
   "cell_type": "code",
   "execution_count": null,
   "metadata": {},
   "outputs": [],
   "source": [
    "# hide\n",
    "from argparse_pydantic.test_tools import  parsers_equal, parsers_equal_typed\n",
    "\n",
    "parser_base = argparse.ArgumentParser(prog=\"MyApp\")\n",
    "parser_base.add_argument(\"echo\")\n",
    "\n",
    "assert parsers_equal_typed(parser_base, parser)"
   ]
  },
  {
   "cell_type": "code",
   "execution_count": null,
   "metadata": {},
   "outputs": [
    {
     "name": "stdout",
     "output_type": "stream",
     "text": [
      "usage: MyApp [-h] echo\n",
      "\n",
      "positional arguments:\n",
      "  echo\n",
      "\n",
      "options:\n",
      "  -h, --help  show this help message and exit\n"
     ]
    }
   ],
   "source": [
    "parser.print_help()"
   ]
  },
  {
   "cell_type": "markdown",
   "metadata": {},
   "source": [
    "Parse command line as usual."
   ]
  },
  {
   "cell_type": "code",
   "execution_count": null,
   "metadata": {},
   "outputs": [],
   "source": [
    "args = parser.parse_args([\"argument from command line\"])"
   ]
  },
  {
   "cell_type": "markdown",
   "metadata": {},
   "source": [
    "When we parse command line, we got Namespace object.  \n",
    "Bat we can convert it to config object."
   ]
  },
  {
   "cell_type": "code",
   "execution_count": null,
   "metadata": {},
   "outputs": [],
   "source": [
    "from argparse_pydantic import create_model_obj\n",
    "\n",
    "cfg = create_model_obj(AppCfg, args)"
   ]
  },
  {
   "cell_type": "markdown",
   "metadata": {},
   "source": [
    "Now we got  config with type checks / validation ont type hinting when use it at IDE."
   ]
  },
  {
   "cell_type": "code",
   "execution_count": null,
   "metadata": {},
   "outputs": [
    {
     "data": {
      "text/plain": [
       "AppCfg(echo='argument from command line')"
      ]
     },
     "execution_count": null,
     "metadata": {},
     "output_type": "execute_result"
    }
   ],
   "source": [
    "cfg"
   ]
  },
  {
   "cell_type": "code",
   "execution_count": null,
   "metadata": {},
   "outputs": [
    {
     "data": {
      "text/plain": [
       "'argument from command line'"
      ]
     },
     "execution_count": null,
     "metadata": {},
     "output_type": "execute_result"
    }
   ],
   "source": [
    "cfg.echo"
   ]
  },
  {
   "cell_type": "markdown",
   "metadata": {},
   "source": [
    "We can use undefined arguments as positional or optional (but required)."
   ]
  },
  {
   "cell_type": "code",
   "execution_count": null,
   "metadata": {},
   "outputs": [],
   "source": [
    "class AppCfg2(BaseModel):\n",
    "    arg_int: int\n",
    "    arg_float: float = 0.1"
   ]
  },
  {
   "cell_type": "code",
   "execution_count": null,
   "metadata": {},
   "outputs": [
    {
     "name": "stdout",
     "output_type": "stream",
     "text": [
      "usage: MyApp [-h] --arg_int ARG_INT [--arg_float ARG_FLOAT]\n",
      "\n",
      "options:\n",
      "  -h, --help            show this help message and exit\n",
      "  --arg_int ARG_INT\n",
      "  --arg_float ARG_FLOAT\n"
     ]
    }
   ],
   "source": [
    "parser = argparse.ArgumentParser(prog=\"MyApp\")\n",
    "parser = add_args_from_model(parser, AppCfg2, undefined_positional=False)\n",
    "parser.print_help()"
   ]
  },
  {
   "cell_type": "markdown",
   "metadata": {},
   "source": [
    "And we can add type hints to help message from our config.  \n"
   ]
  },
  {
   "cell_type": "code",
   "execution_count": null,
   "metadata": {},
   "outputs": [
    {
     "name": "stdout",
     "output_type": "stream",
     "text": [
      "usage: MyApp [-h] --arg_int ARG_INT [--arg_float ARG_FLOAT]\n",
      "\n",
      "options:\n",
      "  -h, --help            show this help message and exit\n",
      "  --arg_int ARG_INT     [int]\n",
      "  --arg_float ARG_FLOAT\n",
      "                        [float] default: 0.1\n"
     ]
    }
   ],
   "source": [
    "parser = argparse.ArgumentParser(prog=\"MyApp\")\n",
    "parser = add_args_from_model(\n",
    "    parser,\n",
    "    AppCfg2,\n",
    "    undefined_positional=False,\n",
    "    help_def_type=True,\n",
    ")\n",
    "parser.print_help()"
   ]
  },
  {
   "cell_type": "markdown",
   "metadata": {},
   "source": [
    "## Examples"
   ]
  },
  {
   "cell_type": "markdown",
   "metadata": {},
   "source": [
    "You can see examples at `examples` folder - Same examples as at python docs and tutorial for argparse.  "
   ]
  }
 ],
 "metadata": {
  "language_info": {
   "name": "python"
  }
 },
 "nbformat": 4,
 "nbformat_minor": 2
}
