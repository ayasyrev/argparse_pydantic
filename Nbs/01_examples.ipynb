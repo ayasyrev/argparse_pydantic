{
 "cells": [
  {
   "cell_type": "markdown",
   "metadata": {},
   "source": [
    "# Examples"
   ]
  },
  {
   "cell_type": "code",
   "execution_count": null,
   "metadata": {},
   "outputs": [],
   "source": [
    "# hide\n",
    "%load_ext autoreload\n",
    "%autoreload 2"
   ]
  },
  {
   "cell_type": "code",
   "execution_count": null,
   "metadata": {},
   "outputs": [],
   "source": [
    "file_name = \"../examples/example_simple/example_01_simple.py\"\n",
    "file_name_argparse = \"../examples/example_01_simple__argparse.py\""
   ]
  },
  {
   "cell_type": "code",
   "execution_count": null,
   "metadata": {},
   "outputs": [],
   "source": [
    "# hide\n",
    "from nbdocs.helpers import get_code, termynal_output\n",
    "from cli_result.core import run_script"
   ]
  },
  {
   "cell_type": "code",
   "execution_count": null,
   "metadata": {},
   "outputs": [
    {
     "name": "stdout",
     "output_type": "stream",
     "text": [
      "```python\n",
      "# Basic example - create base config for you app with typed config based on pydantic.\n",
      "import argparse\n",
      "\n",
      "from pydantic import BaseModel\n",
      "\n",
      "from argparse_pydantic.core import add_args_from_model, create_model_obj\n",
      "\n",
      "\n",
      "# Create config for App as BaseModel\n",
      "class AppCfg(BaseModel):\n",
      "    arg_1: int = 0\n",
      "    arg_2: float = 0.1\n",
      "    arg_3: str = \"string\"\n",
      "\n",
      "\n",
      "# create argparse.ArgumentParser as usual\n",
      "parser = argparse.ArgumentParser()\n",
      "# add arguments to parser from our config\n",
      "add_args_from_model(parser, AppCfg)\n",
      "\n",
      "\n",
      "if __name__ == \"__main__\":\n",
      "    # parse arguments as usual. We got Namespace without typing\n",
      "    args_namespace = parser.parse_args()\n",
      "    # create config object from arguments.\n",
      "    cfg: AppCfg = create_model_obj(AppCfg, args_namespace)  # type: ignore\n",
      "    # now we got object with autocompletion at ide.\n",
      "    # if you want to play with config at jupyter notebook: import AppCfg.\n",
      "    print(cfg)\n",
      "\n",
      "```\n"
     ]
    }
   ],
   "source": [
    "# hide_input\n",
    "print(get_code(file_name))"
   ]
  },
  {
   "cell_type": "markdown",
   "metadata": {},
   "source": [
    "It's exactly the same as: "
   ]
  },
  {
   "cell_type": "code",
   "execution_count": null,
   "metadata": {},
   "outputs": [
    {
     "name": "stdout",
     "output_type": "stream",
     "text": [
      "```python\n",
      "# Basic example - create base config for you app with typed config based on pydantic.\n",
      "import argparse\n",
      "\n",
      "from pydantic import BaseModel\n",
      "\n",
      "from argparse_pydantic.core import add_args_from_model, create_model_obj\n",
      "\n",
      "# for tests\n",
      "from argparse_pydantic.test_tools import parsers_equal\n",
      "\n",
      "\n",
      "# Create config for App as BaseModel\n",
      "class AppCfg(BaseModel):\n",
      "    arg_1: int = 0\n",
      "    arg_2: float = 0.1\n",
      "    arg_3: str = \"string\"\n",
      "\n",
      "\n",
      "# create argparse.ArgumentParser as usual\n",
      "parser = argparse.ArgumentParser()\n",
      "# add arguments to parser from our config\n",
      "add_args_from_model(parser, AppCfg)\n",
      "\n",
      "# Result parser will be same as below\n",
      "parser_base = argparse.ArgumentParser()\n",
      "parser_base.add_argument(\"--arg_1\", type=int, default=0)\n",
      "parser_base.add_argument(\"--arg_2\", type=float, default=0.1)\n",
      "parser_base.add_argument(\"--arg_3\", type=str, default=\"string\")\n",
      "\n",
      "\n",
      "if __name__ == \"__main__\":\n",
      "    # parse arguments as usual. We got Namespace without typing\n",
      "    args_namespace = parser.parse_args()\n",
      "    # create config object from arguments.\n",
      "    cfg: AppCfg = create_model_obj(AppCfg, args_namespace)  # type: ignore\n",
      "    # now we got object with autocompletion at ide.\n",
      "    # if you want to play with config at jupyter notebook: import AppCfg.\n",
      "    print(cfg)\n",
      "    # lets compare parsers\n",
      "    assert parsers_equal(parser_base, parser)\n",
      "    # test compare results\n",
      "    args_base = parser_base.parse_args()\n",
      "    assert args_namespace == args_base\n",
      "\n",
      "```\n"
     ]
    }
   ],
   "source": [
    "# hide_input\n",
    "print(get_code(file_name_argparse))"
   ]
  },
  {
   "cell_type": "markdown",
   "metadata": {},
   "source": [
    "Lets run it."
   ]
  },
  {
   "cell_type": "code",
   "execution_count": null,
   "metadata": {},
   "outputs": [
    {
     "data": {
      "text/plain": [
       "('usage: example_01_simple.py [-h] [--arg_1 ARG_1] [--arg_2 ARG_2]\\n                            [--arg_3 ARG_3]\\n\\noptions:\\n  -h, --help     show this help message and exit\\n  --arg_1 ARG_1\\n  --arg_2 ARG_2\\n  --arg_3 ARG_3\\n',\n",
       " '')"
      ]
     },
     "execution_count": null,
     "metadata": {},
     "output_type": "execute_result"
    }
   ],
   "source": [
    "# hide\n",
    "args = [\"-h\"]\n",
    "res, err = run_script(file_name, args)\n",
    "res, err"
   ]
  },
  {
   "cell_type": "code",
   "execution_count": null,
   "metadata": {},
   "outputs": [
    {
     "name": "stdout",
     "output_type": "stream",
     "text": [
      "<!-- termynal -->\n",
      "```\n",
      "$ python example_01_simple.py -h\n",
      "usage: example_01_simple.py [-h] [--arg_1 ARG_1] [--arg_2 ARG_2]\n",
      "                            [--arg_3 ARG_3]\n",
      "\n",
      "options:\n",
      "  -h, --help     show this help message and exit\n",
      "  --arg_1 ARG_1\n",
      "  --arg_2 ARG_2\n",
      "  --arg_3 ARG_3\n",
      "\n",
      "\n",
      "```\n"
     ]
    }
   ],
   "source": [
    "# hide_input\n",
    "print(termynal_output(prog=\"example_01_simple.py\", args=args, out_text=res))"
   ]
  },
  {
   "cell_type": "markdown",
   "metadata": {},
   "source": [
    "And with arguments:"
   ]
  },
  {
   "cell_type": "code",
   "execution_count": null,
   "metadata": {},
   "outputs": [
    {
     "name": "stdout",
     "output_type": "stream",
     "text": [
      "<!-- termynal -->\n",
      "```\n",
      "$ python example_01_simple.py --arg_1 10 --arg_3 some_str\n",
      "arg_1=10 arg_2=0.1 arg_3='some_str'\n",
      "\n",
      "\n",
      "```\n"
     ]
    }
   ],
   "source": [
    "# hide_input\n",
    "args = [\"--arg_1\", \"10\", \"--arg_3\", \"some_str\"]\n",
    "res, err = run_script(file_name, args)\n",
    "print(termynal_output(prog=\"example_01_simple.py\", args=args, out_text=res))"
   ]
  },
  {
   "cell_type": "code",
   "execution_count": null,
   "metadata": {},
   "outputs": [],
   "source": []
  }
 ],
 "metadata": {
  "language_info": {
   "name": "python"
  }
 },
 "nbformat": 4,
 "nbformat_minor": 2
}
